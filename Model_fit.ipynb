{
  "nbformat": 4,
  "nbformat_minor": 0,
  "metadata": {
    "colab": {
      "provenance": [],
      "authorship_tag": "ABX9TyMvCq1AAQVaeLxVqNCaV661",
      "include_colab_link": true
    },
    "kernelspec": {
      "name": "python3",
      "display_name": "Python 3"
    },
    "language_info": {
      "name": "python"
    }
  },
  "cells": [
    {
      "cell_type": "markdown",
      "metadata": {
        "id": "view-in-github",
        "colab_type": "text"
      },
      "source": [
        "<a href=\"https://colab.research.google.com/github/Ahtesham519/Generative_Deep_Learning_2nd_Edition/blob/main/Model_fit.ipynb\" target=\"_parent\"><img src=\"https://colab.research.google.com/assets/colab-badge.svg\" alt=\"Open In Colab\"/></a>"
      ]
    },
    {
      "cell_type": "code",
      "execution_count": null,
      "metadata": {
        "id": "lxSf8BFo_3-5"
      },
      "outputs": [],
      "source": [
        "from sklearn.datasets import make_regression\n",
        "from sklearn.model_selection import train_test_split\n",
        "from sklearn.model import LinearRegression\n",
        "from sklearn.metrics import mean_squared_error\n",
        "\n",
        "#Generate some sample data (you can replace this with your dataset)\n",
        "X, y = make_regression(n_samples = 1000, n_features = 1, noise = 20 , random_state = 42)\n",
        "\n",
        "#Split the data into training and testing sets\n",
        "X_train , X_test , y_train , y_test = train_test_split(X, y, test_size = 0.2, random_state = 42)\n",
        "\n",
        "#Initialize the model (in this case , LinearRegression)\n",
        "model = LinearRegression()\n",
        "\n",
        "#Fit the model to the training data\n",
        "model.fit(X_train , y_train)\n",
        "\n",
        "#Make predictions on the test set\n",
        "y_pred = model.predict(X_test)\n",
        "\n",
        "#Evaluate the model\n",
        "mse = mean_squared_error(y_test , y_pred)\n",
        "print(f\"Mean Squared Error : {mse}\")\n",
        "\n"
      ]
    },
    {
      "cell_type": "code",
      "source": [
        "import matplotlib.pyplot as plt\n",
        "from sklearn.datasets import load_diabetes\n",
        "from sklearn.model_selection import train_test_split\n",
        "from sklearn.ensemble import RandomForestClassifier\n",
        "from sklearn.metrics import accuracy_score, classification_report\n",
        "\n",
        "#Load the diabetes dataset\n",
        "diabetes = load_diabetes()\n",
        "\n",
        "#Split the data into features (X) and target variables (y)\n",
        "X = diabetes.data\n",
        "y = diabetes.target\n",
        "\n",
        "#Split the data into training and testing data sets\n",
        "X_train, X_test , y_train , y_test = train_test_split(X, y, test_size = 0.2 , random_state = 42)\n",
        "\n",
        "#Initialize the model (Random Forest Classifer in this case)\n",
        "model = RandomForestClassifier(n_estimators = 100 , random_state = 42)\n",
        "\n",
        "#Fit the model to the training data\n",
        "model.fit(X_train, y_train)\n",
        "\n",
        "#Make predictions on the test set\n",
        "y_pred = model.predict(X_test)\n",
        "\n",
        "#Evulate the model\n",
        "accuracy = accuracy_score(y_test, y_pred)\n",
        "print(f\"Accuracy:{accuracy}\")\n",
        "\n",
        "#Display a cassification report\n",
        "print(\"Classification Report:\")\n",
        "print(classification_report(y_test, y_pred))\n",
        "\n",
        "#Plotting a scatter plot of actual vs predicted values\n",
        "plt.figure(figsize=(8,6))\n",
        "plt.scatter(y_test, y_pred , color = \"blue\")\n",
        "plt.plot([min(y_test), max(y_test)],[min(y_test) , max(y_test)] , 'k--' , lw = 3)\n",
        "plt.xlabel('Actual')\n",
        "plt.ylabel('Predicted')\n",
        "plt.title('Actual vs predicted values')\n",
        "plt.show()"
      ],
      "metadata": {
        "id": "YT2mne_r7zR-"
      },
      "execution_count": null,
      "outputs": []
    },
    {
      "cell_type": "code",
      "source": [],
      "metadata": {
        "id": "IMS5Xs07-Khy"
      },
      "execution_count": null,
      "outputs": []
    }
  ]
}